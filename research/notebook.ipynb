{
 "cells": [
  {
   "cell_type": "code",
   "execution_count": 1,
   "metadata": {},
   "outputs": [],
   "source": [
    "import os"
   ]
  },
  {
   "cell_type": "code",
   "execution_count": 7,
   "metadata": {},
   "outputs": [
    {
     "name": "stdout",
     "output_type": "stream",
     "text": [
      "perfect!!\n"
     ]
    }
   ],
   "source": [
    "from dotenv import load_dotenv\n",
    "import os\n",
    "\n",
    "print(\"perfect!!\")\n",
    "load_dotenv()\n",
    "\n",
    "GOOGLE_API_KEY=os.getenv(\"GOOGLE_API_KEY\")\n",
    "# print(GOOGLE_API_KEY)\n",
    "os.environ[\"GOOGLE_API_KEY\"]=GOOGLE_API_KEY"
   ]
  },
  {
   "cell_type": "code",
   "execution_count": 3,
   "metadata": {},
   "outputs": [
    {
     "name": "stderr",
     "output_type": "stream",
     "text": [
      "/opt/anaconda3/envs/multi/lib/python3.10/site-packages/tqdm/auto.py:21: TqdmWarning: IProgress not found. Please update jupyter and ipywidgets. See https://ipywidgets.readthedocs.io/en/stable/user_install.html\n",
      "  from .autonotebook import tqdm as notebook_tqdm\n"
     ]
    }
   ],
   "source": [
    "import google.generativeai as genai"
   ]
  },
  {
   "cell_type": "code",
   "execution_count": 4,
   "metadata": {},
   "outputs": [],
   "source": [
    "genai.configure(api_key=GOOGLE_API_KEY)"
   ]
  },
  {
   "cell_type": "code",
   "execution_count": null,
   "metadata": {},
   "outputs": [],
   "source": []
  },
  {
   "cell_type": "code",
   "execution_count": 5,
   "metadata": {},
   "outputs": [],
   "source": [
    "model = genai.GenerativeModel('gemini-pro')"
   ]
  },
  {
   "cell_type": "code",
   "execution_count": 6,
   "metadata": {},
   "outputs": [
    {
     "name": "stdout",
     "output_type": "stream",
     "text": [
      "In the quaint town of Willow Creek, nestled amidst verdant hills, there lived an ordinary boy named Ethan. Unbeknownst to him, fate had a magical adventure in store for him as he stumbled upon an extraordinary backpack in his attic.\n",
      "\n",
      "The backpack, worn and dusty from years of disuse, possessed an unassuming appearance. But as Ethan unzipped it, a soft glow emanated from within, illuminating its enchanted interior. The lining shimmered with a celestial tapestry, depicting swirling galaxies and sparkling stardust.\n",
      "\n",
      "Curiosity sparked within Ethan as he reached into the backpack's depths. Instead of the usual pencils and books, he discovered an array of extraordinary items. There was a pocket that filled with an endless supply of delicious treats, a compartment that could transport him to any destination he desired, and a secret zipper that concealed a shimmering sword of light.\n",
      "\n",
      "With newfound wonder, Ethan set off on countless adventures. He soared through the clouds on the backpack's wings, explored distant planets in the galaxy pocket, and battled invisible foes with the radiant sword. Each journey brought him immeasurable joy and a profound sense of wonder.\n",
      "\n",
      "However, Ethan soon realized that the backpack's magic came with a price. It demanded absolute secrecy and the utmost care. Should he ever reveal its existence or misuse its power, its enchanting abilities would vanish forever.\n",
      "\n",
      "As time passed, Ethan's secret became a heavy burden. He yearned to share his adventures with his friends but knew the dire consequences of breaking the backpack's rules. Torn between loyalty and the allure of sharing his extraordinary experiences, Ethan grappled with a difficult decision.\n",
      "\n",
      "One evening, as he confide in his loyal dog, Max, an idea sparked in his mind. Together, they devised a plan to use the backpack's magic to bring happiness to others without violating its sacred oath.\n",
      "\n",
      "Donning cloaks of invisibility, Ethan and Max embarked on a secret mission to distribute the backpack's treats to children in need and transport isolated seniors to warm gatherings. They left a trail of joy and laughter wherever they went, all the while keeping the backpack's existence a closely guarded secret.\n",
      "\n",
      "As the years turned into decades, Ethan became known as the town's enigmatic benefactor, a mysterious figure responsible for countless acts of kindness. The magic backpack, tucked away in his heart, remained a testament to the power of imagination and the enduring bond he shared with his canine confidant.\n",
      "\n",
      "And so, the legend of the magical backpack was passed down through generations, a timeless tale of adventure, secrecy, and the transformative power of using one's gifts to bring happiness to the world.\n"
     ]
    }
   ],
   "source": [
    "response = model.generate_content(\"Write a story about a magic backpack.\")\n",
    "print(response.text)"
   ]
  },
  {
   "cell_type": "code",
   "execution_count": null,
   "metadata": {},
   "outputs": [],
   "source": []
  }
 ],
 "metadata": {
  "kernelspec": {
   "display_name": "multi",
   "language": "python",
   "name": "python3"
  },
  "language_info": {
   "codemirror_mode": {
    "name": "ipython",
    "version": 3
   },
   "file_extension": ".py",
   "mimetype": "text/x-python",
   "name": "python",
   "nbconvert_exporter": "python",
   "pygments_lexer": "ipython3",
   "version": "3.10.16"
  }
 },
 "nbformat": 4,
 "nbformat_minor": 2
}
